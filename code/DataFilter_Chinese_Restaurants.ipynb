{
 "cells": [
  {
   "cell_type": "markdown",
   "metadata": {},
   "source": [
    "# Get all businesses with tag 'Chinese'"
   ]
  },
  {
   "cell_type": "code",
   "execution_count": 1,
   "metadata": {},
   "outputs": [],
   "source": [
    "import json\n",
    "from collections import Counter"
   ]
  },
  {
   "cell_type": "markdown",
   "metadata": {},
   "source": [
    "## Find all corresponding business ID and categories"
   ]
  },
  {
   "cell_type": "code",
   "execution_count": 3,
   "metadata": {
    "scrolled": true
   },
   "outputs": [],
   "source": [
    "cate_list = []\n",
    "business_id_list = []\n",
    "with open('../data/business_city.json') as file:\n",
    "    for line in file:\n",
    "        parsed = json.loads(line)\n",
    "        if parsed['categories'] is not None:\n",
    "            if 'Chinese' in parsed['categories'].split(', ') : #and 'restaurant' in parsed['categories'].split(', '):\n",
    "                business_id_list.append(parsed['business_id'])\n",
    "                cate_list.extend(parsed['categories'].split(', '))\n"
   ]
  },
  {
   "cell_type": "markdown",
   "metadata": {},
   "source": [
    "## Number of businesses"
   ]
  },
  {
   "cell_type": "code",
   "execution_count": 10,
   "metadata": {},
   "outputs": [
    {
     "name": "stdout",
     "output_type": "stream",
     "text": [
      "751\n"
     ]
    }
   ],
   "source": [
    "print(len(business_id_list))"
   ]
  },
  {
   "cell_type": "markdown",
   "metadata": {},
   "source": [
    "## All categories"
   ]
  },
  {
   "cell_type": "code",
   "execution_count": 16,
   "metadata": {
    "scrolled": true
   },
   "outputs": [
    {
     "data": {
      "text/plain": [
       "{'Chinese': 751,\n",
       " 'Restaurants': 751,\n",
       " 'Asian Fusion': 106,\n",
       " 'Sushi Bars': 78,\n",
       " 'Food': 71,\n",
       " 'Japanese': 68,\n",
       " 'Buffets': 49,\n",
       " 'Thai': 39,\n",
       " 'Seafood': 38,\n",
       " 'Szechuan': 34,\n",
       " 'Noodles': 30,\n",
       " 'Fast Food': 29,\n",
       " 'Soup': 28,\n",
       " 'Vietnamese': 19,\n",
       " 'Cantonese': 18,\n",
       " 'American (New)': 18,\n",
       " 'Dim Sum': 17,\n",
       " 'Taiwanese': 15,\n",
       " 'Specialty Food': 15,\n",
       " 'Nightlife': 12,\n",
       " 'Bars': 12,\n",
       " 'Vegetarian': 9,\n",
       " 'Korean': 9,\n",
       " 'Salad': 9,\n",
       " 'Food Delivery Services': 8,\n",
       " 'Event Planning & Services': 8,\n",
       " 'Ethnic Food': 8,\n",
       " 'Italian': 7,\n",
       " 'Barbeque': 7,\n",
       " 'Bubble Tea': 6,\n",
       " 'Caterers': 6,\n",
       " 'Hot Pot': 6,\n",
       " 'Comfort Food': 6,\n",
       " 'Gluten-Free': 6,\n",
       " 'American (Traditional)': 6,\n",
       " 'Mongolian': 5,\n",
       " 'Sandwiches': 5,\n",
       " 'Pan Asian': 5,\n",
       " 'Desserts': 5,\n",
       " 'Cocktail Bars': 4,\n",
       " 'Pasta Shops': 4,\n",
       " 'Mexican': 4,\n",
       " 'Mediterranean': 4,\n",
       " 'Tea Rooms': 3,\n",
       " 'Indian': 3,\n",
       " 'Shanghainese': 3,\n",
       " 'Diners': 3,\n",
       " 'Breakfast & Brunch': 3,\n",
       " 'Bakeries': 3,\n",
       " 'Coffee & Tea': 2,\n",
       " 'Steakhouses': 2,\n",
       " 'Kosher': 2,\n",
       " 'Chicken Wings': 2,\n",
       " 'Food Stands': 2,\n",
       " 'Ramen': 2,\n",
       " 'Venues & Event Spaces': 2,\n",
       " 'Malaysian': 2,\n",
       " 'Chicken Shop': 2,\n",
       " 'Food Trucks': 2,\n",
       " 'Pizza': 2,\n",
       " 'Lounges': 2,\n",
       " 'Vegan': 2,\n",
       " 'Teppanyaki': 2,\n",
       " 'Burgers': 2,\n",
       " 'Karaoke': 1,\n",
       " 'Imported Food': 1,\n",
       " 'Town Car Service': 1,\n",
       " 'Transportation': 1,\n",
       " 'Hotels & Travel': 1,\n",
       " 'Local Services': 1,\n",
       " 'Day Spas': 1,\n",
       " 'Septic Services': 1,\n",
       " 'Limos': 1,\n",
       " 'Beauty & Spas': 1,\n",
       " 'Middle Eastern': 1,\n",
       " 'Halal': 1,\n",
       " 'Wraps': 1,\n",
       " 'Izakaya': 1,\n",
       " 'Singaporean': 1,\n",
       " 'Arts & Entertainment': 1,\n",
       " 'Social Clubs': 1,\n",
       " 'Burmese': 1,\n",
       " 'Himalayan/Nepalese': 1,\n",
       " 'Poke': 1,\n",
       " 'Tacos': 1,\n",
       " 'International Grocery': 1,\n",
       " 'Grocery': 1,\n",
       " 'Party & Event Planning': 1,\n",
       " 'Banks & Credit Unions': 1,\n",
       " 'Financial Services': 1,\n",
       " 'Food Court': 1,\n",
       " 'Tapas/Small Plates': 1,\n",
       " 'Pubs': 1,\n",
       " 'Greek': 1,\n",
       " 'Cambodian': 1,\n",
       " 'Convenience Stores': 1,\n",
       " 'Kebab': 1,\n",
       " 'Cafes': 1,\n",
       " 'Street Vendors': 1,\n",
       " 'Ice Cream & Frozen Yogurt': 1,\n",
       " 'Seafood Markets': 1,\n",
       " 'Modern European': 1,\n",
       " 'Juice Bars & Smoothies': 1,\n",
       " 'Hainan': 1,\n",
       " 'Soul Food': 1,\n",
       " 'Do-It-Yourself Food': 1}"
      ]
     },
     "execution_count": 16,
     "metadata": {},
     "output_type": "execute_result"
    }
   ],
   "source": [
    "cate_counted = Counter(cate_list)\n",
    "cate_sorted = {k: v for k, v in sorted(cate_counted.items(), key=lambda item: item[1], reverse = True)}\n",
    "cate_sorted"
   ]
  },
  {
   "cell_type": "markdown",
   "metadata": {},
   "source": [
    "# Create new files "
   ]
  },
  {
   "cell_type": "markdown",
   "metadata": {},
   "source": [
    "## business_city_Chinese"
   ]
  },
  {
   "cell_type": "code",
   "execution_count": 17,
   "metadata": {},
   "outputs": [],
   "source": [
    "with open('../data/business_city.json') as file:\n",
    "    for line in file:\n",
    "        parsed = json.loads(line)\n",
    "        if parsed['business_id'] in business_id_list:\n",
    "            with open('../data/business_city_Chinese.json', 'a') as file2:\n",
    "                file2.write(line)"
   ]
  },
  {
   "cell_type": "markdown",
   "metadata": {},
   "source": [
    "## review_city_Chinese"
   ]
  },
  {
   "cell_type": "code",
   "execution_count": 18,
   "metadata": {},
   "outputs": [],
   "source": [
    "with open('../data/review_city.json') as file:\n",
    "    for line in file:\n",
    "        parsed = json.loads(line)\n",
    "        if parsed['business_id'] in business_id_list:\n",
    "            with open('../data/review_city_Chinese.json', 'a') as file2:\n",
    "                file2.write(line)"
   ]
  },
  {
   "cell_type": "markdown",
   "metadata": {},
   "source": [
    "## tip_city_Chinese"
   ]
  },
  {
   "cell_type": "code",
   "execution_count": 19,
   "metadata": {},
   "outputs": [],
   "source": [
    "with open('../data/tip_city.json') as file:\n",
    "    for line in file:\n",
    "        parsed = json.loads(line)\n",
    "        if parsed['business_id'] in business_id_list:\n",
    "            with open('../data/tip_city_Chinese.json', 'a') as file2:\n",
    "                file2.write(line)"
   ]
  }
 ],
 "metadata": {
  "kernelspec": {
   "display_name": "Python 3",
   "language": "python",
   "name": "python3"
  },
  "language_info": {
   "codemirror_mode": {
    "name": "ipython",
    "version": 3
   },
   "file_extension": ".py",
   "mimetype": "text/x-python",
   "name": "python",
   "nbconvert_exporter": "python",
   "pygments_lexer": "ipython3",
   "version": "3.8.5"
  }
 },
 "nbformat": 4,
 "nbformat_minor": 4
}
